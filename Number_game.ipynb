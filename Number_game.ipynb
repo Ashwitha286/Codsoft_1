{
  "nbformat": 4,
  "nbformat_minor": 0,
  "metadata": {
    "colab": {
      "provenance": [],
      "authorship_tag": "ABX9TyPWXF+HkS4dl6qy6Gd1gjct",
      "include_colab_link": true
    },
    "kernelspec": {
      "name": "python3",
      "display_name": "Python 3"
    },
    "language_info": {
      "name": "python"
    }
  },
  "cells": [
    {
      "cell_type": "markdown",
      "metadata": {
        "id": "view-in-github",
        "colab_type": "text"
      },
      "source": [
        "<a href=\"https://colab.research.google.com/github/Ashwitha286/Codsoft_1/blob/main/Number_game.ipynb\" target=\"_parent\"><img src=\"https://colab.research.google.com/assets/colab-badge.svg\" alt=\"Open In Colab\"/></a>"
      ]
    },
    {
      "cell_type": "code",
      "execution_count": 2,
      "metadata": {
        "colab": {
          "base_uri": "https://localhost:8080/",
          "height": 106
        },
        "id": "2jqYV4CdxxDR",
        "outputId": "351e0a4f-1252-4096-c313-88fcfab15654"
      },
      "outputs": [
        {
          "output_type": "error",
          "ename": "IndentationError",
          "evalue": "unexpected indent (<ipython-input-2-ba3b34c113ba>, line 4)",
          "traceback": [
            "\u001b[0;36m  File \u001b[0;32m\"<ipython-input-2-ba3b34c113ba>\"\u001b[0;36m, line \u001b[0;32m4\u001b[0m\n\u001b[0;31m    class NumberGuessingGame {\u001b[0m\n\u001b[0m    ^\u001b[0m\n\u001b[0;31mIndentationError\u001b[0m\u001b[0;31m:\u001b[0m unexpected indent\n"
          ]
        }
      ],
      "source": [
        "import java.util.Random;\n",
        "import java.util.Scanner;\n",
        "\n",
        " class NumberGuessingGame {\n",
        "    public static void main(String[] args) {\n",
        "        Scanner scanner = new Scanner(System.in);\n",
        "        Random random = new Random();\n",
        "        int maxAttempts = 5;\n",
        "        int score = 0;\n",
        "        boolean playAgain = true;\n",
        "\n",
        "        System.out.println(\"Welcome to the Number Guessing Game!\");\n",
        "\n",
        "        while (playAgain) {\n",
        "            int targetNumber = random.nextInt(100) + 1;  // Generate random number between 1 and 100\n",
        "            int attempts = 0;\n",
        "            boolean hasGuessedCorrectly = false;\n",
        "\n",
        "            System.out.println(\"I have generated a number between 1 and 100. You have \" + maxAttempts + \" attempts to guess it!\");\n",
        "\n",
        "            while (attempts < maxAttempts && !hasGuessedCorrectly) {\n",
        "                    System.out.print(\"Enter your guess: \");\n",
        "                    int guess = scanner.nextInt();\n",
        "                    attempts++;\n",
        "\n",
        "                    if (guess == targetNumber) {\n",
        "                        System.out.println(\"Congratulations! You guessed the correct number in \" + attempts + \" attempts.\");\n",
        "                        score += (maxAttempts - attempts + 1);  // Award points based on remaining attempts\n",
        "                        hasGuessedCorrectly = true;\n",
        "                     } else if (guess < targetNumber) {\n",
        "                        System.out.println(\"Too low! Try again.\");\n",
        "                     } else {\n",
        "                        System.out.println(\"Too high! Try again.\");\n",
        "                     }\n",
        "                }\n",
        "\n",
        "                if (!hasGuessedCorrectly) {\n",
        "                    System.out.println(\"Sorry! You've used all your attempts. The correct number was: \" + targetNumber);\n",
        "                }\n",
        "                 System.out.println(\"Your current score: \" + score);\n",
        "\n",
        "                 // Ask if the player wants to play again\n",
        "                 System.out.print(\"Do you want to play another round? (yes/no): \");\n",
        "                 String response = scanner.next();\n",
        "                 if (!response.equalsIgnoreCase(\"yes\")) {\n",
        "                     playAgain = false;\n",
        "                    }\n",
        "                 }\n",
        "\n",
        "                System.out.println(\"Thanks for playing! Your final score is: \" + score);\n",
        "                scanner.close();\n",
        "             }\n",
        "         }\n",
        "\n",
        "\n",
        "\n",
        "\n",
        "\n",
        "\n",
        "\n",
        "\n",
        "\n",
        "\n",
        "\n",
        "\n",
        "\n",
        "\n",
        "\n",
        "\n"
      ]
    }
  ]
}